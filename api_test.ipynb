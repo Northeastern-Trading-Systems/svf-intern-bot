{
 "cells": [
  {
   "cell_type": "code",
   "execution_count": 2,
   "metadata": {},
   "outputs": [
    {
     "ename": "ModuleNotFoundError",
     "evalue": "No module named 'openbb_terminal'",
     "output_type": "error",
     "traceback": [
      "\u001b[1;31m---------------------------------------------------------------------------\u001b[0m",
      "\u001b[1;31mModuleNotFoundError\u001b[0m                       Traceback (most recent call last)",
      "Cell \u001b[1;32mIn [2], line 1\u001b[0m\n\u001b[1;32m----> 1\u001b[0m \u001b[38;5;28;01mfrom\u001b[39;00m \u001b[38;5;21;01mopenbb_terminal\u001b[39;00m\u001b[38;5;21;01m.\u001b[39;00m\u001b[38;5;21;01mapi\u001b[39;00m \u001b[38;5;28;01mimport\u001b[39;00m openbb\n\u001b[0;32m      3\u001b[0m openbb\u001b[38;5;241m.\u001b[39mstocks\u001b[38;5;241m.\u001b[39mba\u001b[38;5;241m.\u001b[39msnews(\u001b[38;5;124m\"\u001b[39m\u001b[38;5;124maapl\u001b[39m\u001b[38;5;124m\"\u001b[39m, chart\u001b[38;5;241m=\u001b[39m\u001b[38;5;28;01mTrue\u001b[39;00m)\n",
      "\u001b[1;31mModuleNotFoundError\u001b[0m: No module named 'openbb_terminal'"
     ]
    }
   ],
   "source": [
    "from openbb_terminal.api import openbb\n",
    "\n",
    "openbb.stocks.ba.snews(\"aapl\", chart=True)"
   ]
  },
  {
   "cell_type": "code",
   "execution_count": 3,
   "metadata": {},
   "outputs": [
    {
     "data": {
      "text/plain": [
       "False"
      ]
     },
     "execution_count": 3,
     "metadata": {},
     "output_type": "execute_result"
    }
   ],
   "source": [
    "\"https://financialmodelingprep.com/api/v3/discounted-cash-flow/aapl?period=annual&limit=0&apikey=4450904909ac622250f1dc55843d5b13\" == \"https://financialmodelingprep.com/api/v3/discounted-cash-flow/AAPL?period=annual&limit=0&apikey=4450904909ac622250f1dc55843d5b13\""
   ]
  },
  {
   "cell_type": "code",
   "execution_count": null,
   "metadata": {},
   "outputs": [],
   "source": []
  }
 ],
 "metadata": {
  "interpreter": {
   "hash": "562697f8fbbac9e50af76ad841e59cbc772178934bb0dbae0ce2fbf738b42dcd"
  },
  "kernelspec": {
   "display_name": "Python 3.9.13 64-bit ('venv': venv)",
   "language": "python",
   "name": "python3"
  },
  "language_info": {
   "codemirror_mode": {
    "name": "ipython",
    "version": 3
   },
   "file_extension": ".py",
   "mimetype": "text/x-python",
   "name": "python",
   "nbconvert_exporter": "python",
   "pygments_lexer": "ipython3",
   "version": "3.9.13"
  },
  "orig_nbformat": 4
 },
 "nbformat": 4,
 "nbformat_minor": 2
}
